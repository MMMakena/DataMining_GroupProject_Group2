{
 "cells": [
  {
   "cell_type": "code",
   "execution_count": 5,
   "id": "812bb232",
   "metadata": {},
   "outputs": [],
   "source": [
    "import pandas as pd\n",
    "\n",
    "# Load dataset\n",
    "df = pd.read_csv('../data/final/with_clusters_anomalies_and_labels.csv')\n",
    "\n",
    "# (Optional) Convert Date column to datetime for use in Power BI\n",
    "df[\"Date\"] = pd.to_datetime(df[\"Date\"])\n",
    "\n",
    "# Save to CSV for Power BI\n",
    "df.to_csv(\"data_for_powerbi.csv\", index=False)\n"
   ]
  },
  {
   "cell_type": "code",
   "execution_count": 7,
   "id": "e4812f81",
   "metadata": {},
   "outputs": [
    {
     "name": "stdout",
     "output_type": "stream",
     "text": [
      "Cluster\n",
      "0    14.601414\n",
      "2    13.889606\n",
      "1     4.742146\n",
      "Name: Profit_Margin, dtype: float64\n",
      "Company\n",
      "TechCorp     173.405000\n",
      "FinServ      122.027500\n",
      "HealthInc     91.166667\n",
      "EnergyCo      72.344444\n",
      "Name: Stock_Price, dtype: float64\n",
      "Number of anomalies detected: 10\n",
      "          Date   Company  Stock_Price  Profit_Margin\n",
      "0   2022-01-01  EnergyCo         65.3      12.867542\n",
      "119 2022-01-01  RetailCo         42.5       4.373798\n",
      "120 2022-02-01  RetailCo         43.1       4.413027\n",
      "121 2022-03-01  RetailCo         42.8       4.385095\n",
      "122 2022-04-01  RetailCo         43.5       4.435534\n",
      "157 2025-03-01  RetailCo         51.4       5.066399\n",
      "158 2025-04-01  RetailCo         51.9       5.080556\n",
      "196 2025-02-01  TechCorp        200.2      14.685868\n",
      "197 2025-03-01  TechCorp        197.8      14.615507\n",
      "198 2025-04-01  TechCorp        202.5      14.776849\n"
     ]
    }
   ],
   "source": [
    "# 1. Average Profit Margin by Cluster\n",
    "cluster_pm = df.groupby(\"Cluster\")[\"Profit_Margin\"].mean().sort_values(ascending=False)\n",
    "print(cluster_pm)\n",
    "\n",
    "# 2. High Performance Company Trends\n",
    "high_perf = df[df[\"High_Performance\"]]\n",
    "print(high_perf.groupby(\"Company\")[\"Stock_Price\"].mean().sort_values(ascending=False).head())\n",
    "\n",
    "# 3. Anomalies Detected\n",
    "anomalies = df[df[\"Anomaly\"] == -1]\n",
    "print(f\"Number of anomalies detected: {len(anomalies)}\")\n",
    "print(anomalies[[\"Date\", \"Company\", \"Stock_Price\", \"Profit_Margin\"]])\n"
   ]
  }
 ],
 "metadata": {
  "kernelspec": {
   "display_name": "Python 3",
   "language": "python",
   "name": "python3"
  },
  "language_info": {
   "codemirror_mode": {
    "name": "ipython",
    "version": 3
   },
   "file_extension": ".py",
   "mimetype": "text/x-python",
   "name": "python",
   "nbconvert_exporter": "python",
   "pygments_lexer": "ipython3",
   "version": "3.13.4"
  }
 },
 "nbformat": 4,
 "nbformat_minor": 5
}
