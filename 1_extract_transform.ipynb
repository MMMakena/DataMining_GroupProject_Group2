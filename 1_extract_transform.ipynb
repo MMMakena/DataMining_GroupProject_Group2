{
 "cells": [
  {
   "cell_type": "markdown",
   "id": "9728b93b",
   "metadata": {},
   "source": [
    "# ETL Pipeline \n",
    "\n",
    "This notebook contains the Extract, Transform, Load (ETL) pipeline for the finance dataset.\n",
    "\n",
    "## Pipeline Steps:\n",
    "1. **Extract**: Load data from CSV file\n",
    "2. **Transform**: Clean data and add enrichment features\n",
    "3. **Load**: Save processed data to output file\n",
    "\n"
   ]
  },
  {
   "cell_type": "markdown",
   "id": "b34997c9",
   "metadata": {},
   "source": [
    "## "
   ]
  },
  {
   "cell_type": "markdown",
   "id": "bfe8be13",
   "metadata": {},
   "source": [
    "## Import Libraries"
   ]
  },
  {
   "cell_type": "code",
   "execution_count": 44,
   "id": "6cacd253",
   "metadata": {},
   "outputs": [],
   "source": [
    "import pandas as pd\n",
    "import numpy as np\n",
    "import os"
   ]
  },
  {
   "cell_type": "markdown",
   "id": "0330ec46",
   "metadata": {},
   "source": [
    "## Data Extraction"
   ]
  },
  {
   "cell_type": "code",
   "execution_count": 45,
   "id": "b60d3f7e",
   "metadata": {},
   "outputs": [],
   "source": [
    "def extract_data(file_path):\n",
    "    \"\"\"Extract data from CSV file.\"\"\"\n",
    "    try:\n",
    "        df = pd.read_csv(file_path)\n",
    "        print(f\"Data extracted successfully. Shape: {df.shape}\")\n",
    "        print(\"Columns:\", df.columns.tolist())\n",
    "        return df\n",
    "    except Exception as e:\n",
    "        print(f\"Error extracting data: {e}\")\n",
    "        return None"
   ]
  },
  {
   "cell_type": "markdown",
   "id": "64600fd4",
   "metadata": {},
   "source": [
    "## Data Cleaning"
   ]
  },
  {
   "cell_type": "code",
   "execution_count": 46,
   "id": "cc84f438",
   "metadata": {},
   "outputs": [],
   "source": [
    "def clean_data(df):\n",
    "    \"\"\"Clean the dataset: handle missing values, standardize formats, remove outliers.\"\"\"\n",
    "    # Handle missing values\n",
    "    numeric_cols = ['Stock_Price', 'Revenue_Millions', 'Net_Income_Millions', 'Market_Cap_Billions', 'EPS']\n",
    "    for col in numeric_cols:\n",
    "        df[col] = df[col].fillna(df[col].median())\n",
    "    df['Company'] = df['Company'].fillna('Unknown')\n",
    "\n",
    "    # Standardize date format\n",
    "    df['Date'] = pd.to_datetime(df['Date'], errors='coerce')\n",
    "\n",
    "    # Remove outliers for Revenue_Millions using IQR\n",
    "    Q1 = df['Revenue_Millions'].quantile(0.25)\n",
    "    Q3 = df['Revenue_Millions'].quantile(0.75)\n",
    "    IQR = Q3 - Q1\n",
    "    df = df[(df['Revenue_Millions'] >= Q1 - 1.5 * IQR) & (df['Revenue_Millions'] <= Q3 + 1.5 * IQR)]\n",
    "\n",
    "    print(f\"Data cleaned. Shape after cleaning: {df.shape}\")\n",
    "    return df"
   ]
  },
  {
   "cell_type": "markdown",
   "id": "73bad61c",
   "metadata": {},
   "source": [
    "## Data Enrichment"
   ]
  },
  {
   "cell_type": "code",
   "execution_count": 53,
   "id": "7d15b443",
   "metadata": {},
   "outputs": [],
   "source": [
    "def enrich_data(df):\n",
    "    \"\"\"Add calculated fields: Profit_Margin, Revenue_Growth.\"\"\"\n",
    "    # Calculate profit margin\n",
    "    df['Profit_Margin'] = (df['Net_Income_Millions'] / df['Revenue_Millions']) * 100\n",
    "\n",
    "    # Calculate revenue growth (month-over-month percentage change per company)\n",
    "    df = df.sort_values(['Company', 'Date'])\n",
    "    df['Revenue_Growth'] = df.groupby('Company')['Revenue_Millions'].pct_change() * 100\n",
    "    df['Revenue_Growth'] = df['Revenue_Growth'].fillna(0)\n",
    "\n",
    "    print(\"Data enriched with Profit_Margin and Revenue_Growth.\")\n",
    "    return df"
   ]
  },
  {
   "cell_type": "markdown",
   "id": "01159ff7",
   "metadata": {},
   "source": [
    "## Load Data"
   ]
  },
  {
   "cell_type": "code",
   "execution_count": 48,
   "id": "a407b534",
   "metadata": {},
   "outputs": [],
   "source": [
    "def load_data(df, output_path):\n",
    "    \"\"\"Save cleaned and enriched data to CSV.\"\"\"\n",
    "    # Create output directory if it doesn't exist\n",
    "    output_dir = os.path.dirname(output_path)\n",
    "    if output_dir:  # Only create directory if path contains a directory\n",
    "        os.makedirs(output_dir, exist_ok=True)\n",
    "    df.to_csv(output_path, index=False)\n",
    "    print(f\"Data saved to {output_path}\")"
   ]
  },
  {
   "cell_type": "code",
   "execution_count": 49,
   "id": "cce340eb",
   "metadata": {},
   "outputs": [],
   "source": [
    "# Main ETL pipeline\n",
    "def run_etl(input_path, output_path):\n",
    "    \"\"\"Run the Week 2 ETL pipeline for cleaning and enrichment.\"\"\"\n",
    "    df = extract_data(input_path)\n",
    "    if df is not None:\n",
    "        df = clean_data(df)\n",
    "        df = enrich_data(df)\n",
    "        load_data(df, output_path)\n",
    "    else:\n",
    "        print(\"ETL pipeline failed due to extraction error.\")"
   ]
  },
  {
   "cell_type": "markdown",
   "id": "8a20b0be",
   "metadata": {},
   "source": [
    "## Run ETL Pipeline and View Results"
   ]
  },
  {
   "cell_type": "code",
   "execution_count": 50,
   "id": "d4fd4b49",
   "metadata": {},
   "outputs": [
    {
     "name": "stdout",
     "output_type": "stream",
     "text": [
      "=== ORIGINAL DATA ===\n",
      "Data extracted successfully. Shape: (200, 7)\n",
      "Columns: ['Date', 'Company', 'Stock_Price', 'Revenue_Millions', 'Net_Income_Millions', 'Market_Cap_Billions', 'EPS']\n",
      "\n",
      "Original data shape: (200, 7)\n",
      "\n",
      "First 5 rows of original data:\n",
      "         Date    Company  Stock_Price  Revenue_Millions  Net_Income_Millions  \\\n",
      "0  2022-01-01   TechCorp       145.20           1200.50               170.25   \n",
      "1  2022-01-01  HealthInc        80.10            850.75               110.50   \n",
      "2  2022-01-01   RetailCo        42.50           1950.25                85.30   \n",
      "3  2022-01-01    FinServ       110.75           1000.40               140.20   \n",
      "4  2022-01-01   EnergyCo        65.30            700.60                90.15   \n",
      "\n",
      "   Market_Cap_Billions  EPS  \n",
      "0                72.60  2.3  \n",
      "1                40.05  1.7  \n",
      "2                21.25  1.1  \n",
      "3                55.38  2.0  \n",
      "4                32.65  1.5  \n",
      "\n",
      "Data types:\n",
      "Date                    object\n",
      "Company                 object\n",
      "Stock_Price            float64\n",
      "Revenue_Millions       float64\n",
      "Net_Income_Millions    float64\n",
      "Market_Cap_Billions    float64\n",
      "EPS                    float64\n",
      "dtype: object\n",
      "\n",
      "Missing values in original data:\n",
      "Date                   0\n",
      "Company                0\n",
      "Stock_Price            0\n",
      "Revenue_Millions       0\n",
      "Net_Income_Millions    0\n",
      "Market_Cap_Billions    0\n",
      "EPS                    0\n",
      "dtype: int64\n",
      "\n",
      "Basic statistics of original data:\n",
      "       Stock_Price  Revenue_Millions  Net_Income_Millions  \\\n",
      "count   200.000000        200.000000            200.00000   \n",
      "mean    101.097250       1619.494750            139.32700   \n",
      "std      44.591168       5061.372421             39.84423   \n",
      "min      42.500000        700.600000             85.30000   \n",
      "25%      68.800000        894.437500            107.22500   \n",
      "50%      91.000000       1084.125000            128.12500   \n",
      "75%     126.900000       1512.000000            166.37500   \n",
      "max     202.500000      72517.500000            234.25000   \n",
      "\n",
      "       Market_Cap_Billions         EPS  \n",
      "count           200.000000  200.000000  \n",
      "mean             50.548450    1.927100  \n",
      "std              22.297229    0.483061  \n",
      "min              21.250000    1.100000  \n",
      "25%              34.400000    1.597500  \n",
      "50%              45.500000    1.880000  \n",
      "75%              63.450000    2.282500  \n",
      "max             101.250000    2.930000  \n"
     ]
    }
   ],
   "source": [
    "# Step 1: Load and examine the original data\n",
    "print(\"=== ORIGINAL DATA ===\")\n",
    "original_data = extract_data('finance_dataset.csv')\n",
    "if original_data is not None:\n",
    "    print(f\"\\nOriginal data shape: {original_data.shape}\")\n",
    "    print(\"\\nFirst 5 rows of original data:\")\n",
    "    print(original_data.head())\n",
    "    \n",
    "    print(\"\\nData types:\")\n",
    "    print(original_data.dtypes)\n",
    "    \n",
    "    print(\"\\nMissing values in original data:\")\n",
    "    print(original_data.isnull().sum())\n",
    "    \n",
    "    print(\"\\nBasic statistics of original data:\")\n",
    "    print(original_data.describe())"
   ]
  },
  {
   "cell_type": "code",
   "execution_count": 51,
   "id": "50f7dad1",
   "metadata": {},
   "outputs": [
    {
     "name": "stdout",
     "output_type": "stream",
     "text": [
      "\n",
      "==================================================\n",
      "=== CLEANING DATA ===\n",
      "Data cleaned. Shape after cleaning: (199, 7)\n",
      "\n",
      "Cleaned data shape: (199, 7)\n",
      "Rows removed during cleaning: 1\n",
      "\n",
      "First 5 rows of cleaned data:\n",
      "        Date    Company  Stock_Price  Revenue_Millions  Net_Income_Millions  \\\n",
      "0 2022-01-01   TechCorp       145.20           1200.50               170.25   \n",
      "1 2022-01-01  HealthInc        80.10            850.75               110.50   \n",
      "2 2022-01-01   RetailCo        42.50           1950.25                85.30   \n",
      "3 2022-01-01    FinServ       110.75           1000.40               140.20   \n",
      "4 2022-01-01   EnergyCo        65.30            700.60                90.15   \n",
      "\n",
      "   Market_Cap_Billions  EPS  \n",
      "0                72.60  2.3  \n",
      "1                40.05  1.7  \n",
      "2                21.25  1.1  \n",
      "3                55.38  2.0  \n",
      "4                32.65  1.5  \n",
      "\n",
      "Missing values after cleaning:\n",
      "Date                   0\n",
      "Company                0\n",
      "Stock_Price            0\n",
      "Revenue_Millions       0\n",
      "Net_Income_Millions    0\n",
      "Market_Cap_Billions    0\n",
      "EPS                    0\n",
      "dtype: int64\n",
      "\n",
      "Data types after cleaning:\n",
      "Date                   datetime64[ns]\n",
      "Company                        object\n",
      "Stock_Price                   float64\n",
      "Revenue_Millions              float64\n",
      "Net_Income_Millions           float64\n",
      "Market_Cap_Billions           float64\n",
      "EPS                           float64\n",
      "dtype: object\n"
     ]
    }
   ],
   "source": [
    "# Step 2: Clean the data and examine the results\n",
    "if original_data is not None:\n",
    "    print(\"\\n\" + \"=\"*50)\n",
    "    print(\"=== CLEANING DATA ===\")\n",
    "    cleaned_data = clean_data(original_data.copy())\n",
    "    \n",
    "    print(f\"\\nCleaned data shape: {cleaned_data.shape}\")\n",
    "    print(f\"Rows removed during cleaning: {original_data.shape[0] - cleaned_data.shape[0]}\")\n",
    "    \n",
    "    print(\"\\nFirst 5 rows of cleaned data:\")\n",
    "    print(cleaned_data.head())\n",
    "    \n",
    "    print(\"\\nMissing values after cleaning:\")\n",
    "    print(cleaned_data.isnull().sum())\n",
    "    \n",
    "    print(\"\\nData types after cleaning:\")\n",
    "    print(cleaned_data.dtypes)"
   ]
  },
  {
   "cell_type": "code",
   "execution_count": null,
   "id": "32da7b99",
   "metadata": {},
   "outputs": [
    {
     "name": "stdout",
     "output_type": "stream",
     "text": [
      "\n",
      "==================================================\n",
      "=== ENRICHING DATA ===\n",
      "Data enriched with Profit_Margin and Revenue_Growth.\n",
      "\n",
      "Final enriched data shape: (199, 9)\n",
      "\n",
      "First 5 rows of enriched data:\n",
      "         Date   Company  Stock_Price  Revenue_Millions  Net_Income_Millions  \\\n",
      "4  2022-01-01  EnergyCo         65.3            700.60                90.15   \n",
      "9  2022-02-01  EnergyCo         66.1            710.25                92.30   \n",
      "14 2022-03-01  EnergyCo         65.8            705.50                91.10   \n",
      "19 2022-04-01  EnergyCo         66.5            715.75                93.25   \n",
      "24 2022-05-01  EnergyCo         67.0            720.90                94.50   \n",
      "\n",
      "    Market_Cap_Billions   EPS  Profit_Margin  Revenue_Growth  \n",
      "4                 32.65  1.50      12.867542        0.000000  \n",
      "9                 33.05  1.52      12.995424        1.377391  \n",
      "14                32.90  1.51      12.912828       -0.668779  \n",
      "19                33.25  1.53      13.028292        1.452870  \n",
      "24                33.50  1.55      13.108614        0.719525  \n",
      "\n",
      "New columns added:\n",
      "['Profit_Margin', 'Revenue_Growth']\n",
      "\n",
      "Final data statistics:\n",
      "                                Date  Stock_Price  Revenue_Millions  \\\n",
      "count                            199   199.000000        199.000000   \n",
      "mean   2023-08-18 22:04:13.266331648   101.264824       1263.223367   \n",
      "min              2022-01-01 00:00:00    42.500000        700.600000   \n",
      "25%              2022-11-01 00:00:00    69.100000        893.125000   \n",
      "50%              2023-09-01 00:00:00    91.100000       1082.750000   \n",
      "75%              2024-06-16 00:00:00   127.000000       1505.500000   \n",
      "max              2025-04-01 00:00:00   202.500000       2265.500000   \n",
      "std                              NaN    44.640452        482.494503   \n",
      "\n",
      "       Net_Income_Millions  Market_Cap_Billions         EPS  Profit_Margin  \\\n",
      "count           199.000000           199.000000  199.000000     199.000000   \n",
      "mean            139.545729            50.632211    1.928894      12.265536   \n",
      "min              85.300000            21.250000    1.100000       4.373798   \n",
      "25%             107.500000            34.550000    1.605000      13.156689   \n",
      "50%             128.500000            45.550000    1.880000      14.135309   \n",
      "75%             166.500000            63.500000    2.285000      14.452049   \n",
      "max             234.250000           101.250000    2.930000      15.169877   \n",
      "std              39.824162            22.321898    0.483611       3.814984   \n",
      "\n",
      "       Revenue_Growth  \n",
      "count      199.000000  \n",
      "mean         0.466319  \n",
      "min         -1.264532  \n",
      "25%         -0.115325  \n",
      "50%          0.546590  \n",
      "75%          0.955942  \n",
      "max          2.103290  \n",
      "std          0.675175  \n",
      "Data saved to cleaned_finance_dataset_20250716_010701.csv\n",
      "\n",
      "=== SUMMARY ===\n",
      "Original data: 200 rows, 7 columns\n",
      "Final data: 199 rows, 9 columns\n",
      "Rows removed: 1\n",
      "Columns added: 2\n"
     ]
    }
   ],
   "source": [
    "# Step 3: Enrich the data and examine the final results\n",
    "if 'cleaned_data' in locals():\n",
    "    print(\"\\n\" + \"=\"*50)\n",
    "    print(\"=== ENRICHING DATA ===\")\n",
    "    enriched_data = enrich_data(cleaned_data.copy())\n",
    "    \n",
    "    print(f\"\\nFinal enriched data shape: {enriched_data.shape}\")\n",
    "    print(\"\\nFirst 5 rows of enriched data:\")\n",
    "    print(enriched_data.head())\n",
    "    \n",
    "    print(\"\\nNew columns added:\")\n",
    "    new_columns = set(enriched_data.columns) - set(original_data.columns)\n",
    "    print(list(new_columns))\n",
    "    \n",
    "    print(\"\\nFinal data statistics:\")\n",
    "    print(enriched_data.describe())\n",
    "    \n",
    "    # Save the final data to processed_data folder as originally intended\n",
    "    output_path = 'processed_data/cleaned_finance_dataset.csv'\n",
    "    \n",
    "    try:\n",
    "        load_data(enriched_data, output_path)\n",
    "    except PermissionError:\n",
    "        print(f\"Permission error: The file {output_path} might be open in another application.\")\n",
    "        print(\"Please close any applications that might have this file open (like Excel) and try again.\")\n",
    "        print(\"Or run this cell again after closing the file.\")\n",
    "    except Exception as e:\n",
    "        print(f\"Error saving file: {e}\")\n",
    "    \n",
    "    print(f\"\\n=== SUMMARY ===\")\n",
    "    print(f\"Original data: {original_data.shape[0]} rows, {original_data.shape[1]} columns\")\n",
    "    print(f\"Final data: {enriched_data.shape[0]} rows, {enriched_data.shape[1]} columns\")\n",
    "    print(f\"Rows removed: {original_data.shape[0] - enriched_data.shape[0]}\")\n",
    "    print(f\"Columns added: {enriched_data.shape[1] - original_data.shape[1]}\")"
   ]
  }
 ],
 "metadata": {
  "kernelspec": {
   "display_name": "Python 3",
   "language": "python",
   "name": "python3"
  },
  "language_info": {
   "codemirror_mode": {
    "name": "ipython",
    "version": 3
   },
   "file_extension": ".py",
   "mimetype": "text/x-python",
   "name": "python",
   "nbconvert_exporter": "python",
   "pygments_lexer": "ipython3",
   "version": "3.11.9"
  }
 },
 "nbformat": 4,
 "nbformat_minor": 5
}
